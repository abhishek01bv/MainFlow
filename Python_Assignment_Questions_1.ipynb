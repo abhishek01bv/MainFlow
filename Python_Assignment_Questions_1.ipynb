{
  "cells": [
    {
      "cell_type": "markdown",
      "metadata": {
        "id": "view-in-github",
        "colab_type": "text"
      },
      "source": [
        "<a href=\"https://colab.research.google.com/github/abhishek01bv/MainFlow/blob/main/Python_Assignment_Questions_1.ipynb\" target=\"_parent\"><img src=\"https://colab.research.google.com/assets/colab-badge.svg\" alt=\"Open In Colab\"/></a>"
      ]
    },
    {
      "cell_type": "markdown",
      "id": "a190b5c6",
      "metadata": {
        "id": "a190b5c6"
      },
      "source": [
        "1) Write a program to concatenate two strings \"Good Morning!\" and \"Have a nice day!\" and print the combined string using a space in between."
      ]
    },
    {
      "cell_type": "markdown",
      "id": "49308533",
      "metadata": {
        "id": "49308533"
      },
      "source": [
        "2) Can you give multiline comment & explain what is the meaning of identifiers?"
      ]
    },
    {
      "cell_type": "markdown",
      "id": "2f387717",
      "metadata": {
        "id": "2f387717"
      },
      "source": [
        "3) Write a program to slice a string str=\"Hello Everyone\" to get the following output:\n",
        "  \n",
        "  - 'Hello'\n",
        "  - 'yone'\n",
        "  - vE oll'\n",
        "  - 'Eeyn'"
      ]
    },
    {
      "cell_type": "markdown",
      "id": "70c5d551",
      "metadata": {
        "id": "70c5d551"
      },
      "source": [
        "4) We have variable x=22+5j. Can you check the type of variable x?"
      ]
    },
    {
      "cell_type": "markdown",
      "id": "1e935fcb",
      "metadata": {
        "id": "1e935fcb"
      },
      "source": [
        "5) We have variable y=88.7. How do we check if y is instance of float type?"
      ]
    },
    {
      "cell_type": "markdown",
      "id": "75cccd57",
      "metadata": {
        "id": "75cccd57"
      },
      "source": [
        "6) We have Raju who has scored 400 marks in his recent test. Use multiple assignment technique to store his name & score in 2 different variables & print them."
      ]
    },
    {
      "cell_type": "markdown",
      "id": "b7b99679",
      "metadata": {
        "id": "b7b99679"
      },
      "source": [
        "7) Use partition() to split the string, str3=\"Twinkle Twinkle little star\" based on argument string \"little\""
      ]
    },
    {
      "cell_type": "markdown",
      "id": "a6a00eeb",
      "metadata": {
        "id": "a6a00eeb"
      },
      "source": [
        "8) What is the output of x=int(5.7)+float(4)+int(True)?"
      ]
    },
    {
      "cell_type": "markdown",
      "id": "5499094f",
      "metadata": {
        "id": "5499094f"
      },
      "source": [
        "9) We have string, str=\"Have a nice day!\". Can you count & print number of occurances of letter 'a'?"
      ]
    },
    {
      "cell_type": "markdown",
      "id": "173d3f8f",
      "metadata": {
        "id": "173d3f8f"
      },
      "source": [
        "10) str1=\"   Thank you  \". Remove whitespaces from beginning & end of string."
      ]
    },
    {
      "cell_type": "markdown",
      "id": "b0131f62",
      "metadata": {
        "id": "b0131f62"
      },
      "source": [
        "11) Split str=\"Have a nice day!\" based on letter 'a'"
      ]
    },
    {
      "cell_type": "markdown",
      "id": "a606d1f8",
      "metadata": {
        "id": "a606d1f8"
      },
      "source": [
        "12) What will be output of y=(5<6 and 1==4)?"
      ]
    },
    {
      "cell_type": "markdown",
      "id": "29fccd2d",
      "metadata": {
        "id": "29fccd2d"
      },
      "source": [
        "13. Write a Python program to get the Python version you are using."
      ]
    },
    {
      "cell_type": "markdown",
      "id": "9a02f1a7",
      "metadata": {
        "id": "9a02f1a7"
      },
      "source": [
        "14. Write a program using if-else statements to check if a number is prime number or not."
      ]
    },
    {
      "cell_type": "markdown",
      "id": "643819f2",
      "metadata": {
        "id": "643819f2"
      },
      "source": [
        "15. Write a program where based on user input you need to print different statements. (Use if--elif)\n",
        "     If temperature is greater than 30-- print, Its very hot\n",
        "     If temperature is less than 30 but greater than 20--- print, Its hot but manageable\n",
        "     If temperature is less than 20 but greater than 10--- print, Its cold\n",
        "     If temperature is less than 10 but greater than 0--- print Its very cold\n",
        "     Else if temperature less than 10---- print Its Freezing cold\n",
        "     \n",
        "     Example:To check less than 30 but greater than 20 use (temp>=30 and temp<20) as condition.\n",
        "     This way it will check for temperature between 30 & 20"
      ]
    },
    {
      "cell_type": "markdown",
      "id": "e5cc3e97",
      "metadata": {
        "id": "e5cc3e97"
      },
      "source": [
        "16. Write a program to check whether a number is divisible by 7 or not"
      ]
    },
    {
      "cell_type": "markdown",
      "id": "34b21fc4",
      "metadata": {
        "id": "34b21fc4"
      },
      "source": [
        "17. To check whather given element exists in list or not??\n",
        "    list=[1,2,3,4,5,6,7,8,9,10]\n",
        "    check if 9 and 12 are present in given list or not17."
      ]
    },
    {
      "cell_type": "markdown",
      "id": "00e6db2b",
      "metadata": {
        "id": "00e6db2b"
      },
      "source": [
        "18. How to print the largest item from the given list"
      ]
    },
    {
      "cell_type": "markdown",
      "id": "c3a96a8b",
      "metadata": {
        "id": "c3a96a8b"
      },
      "source": [
        "19. Write a Python program to display the first and last colors from the following list.\n",
        "    color_list = [\"Red\",\"Green\",\"White\" ,\"Black\"]"
      ]
    },
    {
      "cell_type": "markdown",
      "id": "5ae5fe9f",
      "metadata": {
        "id": "5ae5fe9f"
      },
      "source": [
        "20. We have tuple, tup1=(\"hello\",\"thanks\",\"bye\")\n",
        "    How to print index of \"thanks\"?"
      ]
    },
    {
      "cell_type": "markdown",
      "id": "0f1c36f7",
      "metadata": {
        "id": "0f1c36f7"
      },
      "source": []
    },
    {
      "cell_type": "code",
      "execution_count": 46,
      "id": "d825faca",
      "metadata": {
        "id": "d825faca",
        "outputId": "239a5751-b185-4bc3-aa3b-8d3768d19fff",
        "colab": {
          "base_uri": "https://localhost:8080/"
        }
      },
      "outputs": [
        {
          "output_type": "stream",
          "name": "stdout",
          "text": [
            "Good morning Have a nice day\n"
          ]
        }
      ],
      "source": [
        "print('Good morning' + ' Have a nice day')"
      ]
    },
    {
      "cell_type": "code",
      "source": [
        "\"\"\"\n",
        "Identifier is a uniqne name given to objects, class so that they can be called in the program later.\n",
        "\"\"\""
      ],
      "metadata": {
        "id": "SzxQHe7dPRyB",
        "outputId": "1b87c7fb-3419-433c-a050-bcc4e97cccb9",
        "colab": {
          "base_uri": "https://localhost:8080/",
          "height": 36
        }
      },
      "id": "SzxQHe7dPRyB",
      "execution_count": 47,
      "outputs": [
        {
          "output_type": "execute_result",
          "data": {
            "text/plain": [
              "'\\nIdentifier is a uniqne name given to objects, class so that they can be called in the program later.\\n'"
            ],
            "application/vnd.google.colaboratory.intrinsic+json": {
              "type": "string"
            }
          },
          "metadata": {},
          "execution_count": 47
        }
      ]
    },
    {
      "cell_type": "code",
      "source": [
        "st = 'Hello Everyone'\n",
        "print(st[0:5])\n",
        "print(st[10:])\n",
        "print(st[7:1:-1])\n",
        "print(st[6::2])"
      ],
      "metadata": {
        "id": "KBMNN4sGPUHK",
        "outputId": "a98dd282-0a43-417d-c36f-d60c0f8f6d12",
        "colab": {
          "base_uri": "https://localhost:8080/"
        }
      },
      "id": "KBMNN4sGPUHK",
      "execution_count": 48,
      "outputs": [
        {
          "output_type": "stream",
          "name": "stdout",
          "text": [
            "Hello\n",
            "yone\n",
            "vE oll\n",
            "Eeyn\n"
          ]
        }
      ]
    },
    {
      "cell_type": "code",
      "source": [
        "x = 22+5j\n",
        "print(type(x))"
      ],
      "metadata": {
        "id": "Pi_UXKxWPWH5",
        "outputId": "f9cf0eb6-e7e7-43f6-a1c2-621391014723",
        "colab": {
          "base_uri": "https://localhost:8080/"
        }
      },
      "id": "Pi_UXKxWPWH5",
      "execution_count": 49,
      "outputs": [
        {
          "output_type": "stream",
          "name": "stdout",
          "text": [
            "<class 'complex'>\n"
          ]
        }
      ]
    },
    {
      "cell_type": "code",
      "source": [
        " y=88.7\n",
        " print(isinstance(y,float))"
      ],
      "metadata": {
        "id": "XEXNlbz5PZ4Z",
        "outputId": "ab1d736c-82ba-4956-ff98-68b98513661a",
        "colab": {
          "base_uri": "https://localhost:8080/"
        }
      },
      "id": "XEXNlbz5PZ4Z",
      "execution_count": 50,
      "outputs": [
        {
          "output_type": "stream",
          "name": "stdout",
          "text": [
            "True\n"
          ]
        }
      ]
    },
    {
      "cell_type": "code",
      "source": [
        "name = 'Raju'\n",
        "marks_scored = 400\n",
        "print(name, marks_scored)"
      ],
      "metadata": {
        "id": "RzGg_ue0Pca2",
        "outputId": "86af6bcf-7472-40a4-df4a-fa616efd9087",
        "colab": {
          "base_uri": "https://localhost:8080/"
        }
      },
      "id": "RzGg_ue0Pca2",
      "execution_count": 51,
      "outputs": [
        {
          "output_type": "stream",
          "name": "stdout",
          "text": [
            "Raju 400\n"
          ]
        }
      ]
    },
    {
      "cell_type": "code",
      "source": [
        "st1 = \"Twinkle Twinkle little star\"\n",
        "print(st1.partition('little'))"
      ],
      "metadata": {
        "id": "W5uLNCblPeFh",
        "outputId": "f1b3c199-b73f-4e36-c2c5-854a08a3d280",
        "colab": {
          "base_uri": "https://localhost:8080/"
        }
      },
      "id": "W5uLNCblPeFh",
      "execution_count": 52,
      "outputs": [
        {
          "output_type": "stream",
          "name": "stdout",
          "text": [
            "('Twinkle Twinkle ', 'little', ' star')\n"
          ]
        }
      ]
    },
    {
      "cell_type": "code",
      "source": [
        "x=int(5.7)+float(4)+int(True)\n",
        "print(x)"
      ],
      "metadata": {
        "id": "Rgb8UwWuPgQo",
        "outputId": "d62dddc3-ec00-4e20-9488-659247c42b71",
        "colab": {
          "base_uri": "https://localhost:8080/"
        }
      },
      "id": "Rgb8UwWuPgQo",
      "execution_count": 53,
      "outputs": [
        {
          "output_type": "stream",
          "name": "stdout",
          "text": [
            "10.0\n"
          ]
        }
      ]
    },
    {
      "cell_type": "code",
      "source": [
        "st2=\"Have a nice day!\"\n",
        "print(st2.count('a'))"
      ],
      "metadata": {
        "id": "U_A7Q5jFPiwf",
        "outputId": "2c577cf8-27ef-4008-f385-3a0a119f83c9",
        "colab": {
          "base_uri": "https://localhost:8080/"
        }
      },
      "id": "U_A7Q5jFPiwf",
      "execution_count": 54,
      "outputs": [
        {
          "output_type": "stream",
          "name": "stdout",
          "text": [
            "3\n"
          ]
        }
      ]
    },
    {
      "cell_type": "code",
      "source": [],
      "metadata": {
        "id": "Ptj_bfGWPlGs"
      },
      "id": "Ptj_bfGWPlGs",
      "execution_count": null,
      "outputs": []
    }
  ],
  "metadata": {
    "kernelspec": {
      "display_name": "Python 3 (ipykernel)",
      "language": "python",
      "name": "python3"
    },
    "language_info": {
      "codemirror_mode": {
        "name": "ipython",
        "version": 3
      },
      "file_extension": ".py",
      "mimetype": "text/x-python",
      "name": "python",
      "nbconvert_exporter": "python",
      "pygments_lexer": "ipython3",
      "version": "3.9.7"
    },
    "colab": {
      "provenance": [],
      "include_colab_link": true
    }
  },
  "nbformat": 4,
  "nbformat_minor": 5
}